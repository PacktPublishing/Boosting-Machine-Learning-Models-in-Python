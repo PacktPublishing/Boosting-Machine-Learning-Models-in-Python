{
 "cells": [
  {
   "cell_type": "code",
   "execution_count": 1,
   "metadata": {},
   "outputs": [],
   "source": [
    "from bp.section1_video5_data import get_data"
   ]
  },
  {
   "cell_type": "code",
   "execution_count": 2,
   "metadata": {},
   "outputs": [],
   "source": [
    "from sklearn import model_selection"
   ]
  },
  {
   "cell_type": "code",
   "execution_count": 3,
   "metadata": {},
   "outputs": [],
   "source": [
    "from xgboost import XGBClassifier"
   ]
  },
  {
   "cell_type": "code",
   "execution_count": 4,
   "metadata": {},
   "outputs": [],
   "source": [
    "seed=123"
   ]
  },
  {
   "cell_type": "code",
   "execution_count": 5,
   "metadata": {},
   "outputs": [],
   "source": [
    "X, Y = get_data('data/video1_diabetes.csv')"
   ]
  },
  {
   "cell_type": "code",
   "execution_count": 6,
   "metadata": {},
   "outputs": [],
   "source": [
    "c = XGBClassifier(random_state=seed)"
   ]
  },
  {
   "cell_type": "code",
   "execution_count": 7,
   "metadata": {},
   "outputs": [],
   "source": [
    "n_trees=range(50, 500, 50)"
   ]
  },
  {
   "cell_type": "code",
   "execution_count": 8,
   "metadata": {},
   "outputs": [],
   "source": [
    "max_depth=range(1, 4)"
   ]
  },
  {
   "cell_type": "code",
   "execution_count": 9,
   "metadata": {},
   "outputs": [],
   "source": [
    "params_to_search = dict(n_estimators=n_trees, max_depth=max_depth)"
   ]
  },
  {
   "cell_type": "code",
   "execution_count": 10,
   "metadata": {},
   "outputs": [],
   "source": [
    "grid_search = model_selection.GridSearchCV(c, params_to_search, scoring='neg_log_loss', n_jobs=-1, cv=10, iid=False)"
   ]
  },
  {
   "cell_type": "code",
   "execution_count": 12,
   "metadata": {},
   "outputs": [],
   "source": [
    "grid_results = grid_search.fit(X, Y)"
   ]
  },
  {
   "cell_type": "code",
   "execution_count": 13,
   "metadata": {},
   "outputs": [
    {
     "data": {
      "text/plain": [
       "{'max_depth': 1, 'n_estimators': 200}"
      ]
     },
     "execution_count": 13,
     "metadata": {},
     "output_type": "execute_result"
    }
   ],
   "source": [
    "grid_results.best_params_"
   ]
  },
  {
   "cell_type": "code",
   "execution_count": 15,
   "metadata": {},
   "outputs": [
    {
     "data": {
      "text/plain": [
       "array([-0.52804745, -0.51888682, -0.5156331 , -0.51410339, -0.51428291,\n",
       "       -0.51706739, -0.51914089, -0.52183569, -0.52402931, -0.51996263,\n",
       "       -0.51460342, -0.52801477, -0.54813433, -0.56530415, -0.58066726,\n",
       "       -0.59121768, -0.60461706, -0.61885382, -0.52004393, -0.53761375,\n",
       "       -0.56588195, -0.59121228, -0.61445203, -0.64352701, -0.66869661,\n",
       "       -0.69528474, -0.72409341])"
      ]
     },
     "execution_count": 15,
     "metadata": {},
     "output_type": "execute_result"
    }
   ],
   "source": [
    "grid_results.cv_results_['mean_test_score']"
   ]
  },
  {
   "cell_type": "code",
   "execution_count": 16,
   "metadata": {},
   "outputs": [
    {
     "data": {
      "text/plain": [
       "[{'max_depth': 1, 'n_estimators': 50},\n",
       " {'max_depth': 1, 'n_estimators': 100},\n",
       " {'max_depth': 1, 'n_estimators': 150},\n",
       " {'max_depth': 1, 'n_estimators': 200},\n",
       " {'max_depth': 1, 'n_estimators': 250},\n",
       " {'max_depth': 1, 'n_estimators': 300},\n",
       " {'max_depth': 1, 'n_estimators': 350},\n",
       " {'max_depth': 1, 'n_estimators': 400},\n",
       " {'max_depth': 1, 'n_estimators': 450},\n",
       " {'max_depth': 2, 'n_estimators': 50},\n",
       " {'max_depth': 2, 'n_estimators': 100},\n",
       " {'max_depth': 2, 'n_estimators': 150},\n",
       " {'max_depth': 2, 'n_estimators': 200},\n",
       " {'max_depth': 2, 'n_estimators': 250},\n",
       " {'max_depth': 2, 'n_estimators': 300},\n",
       " {'max_depth': 2, 'n_estimators': 350},\n",
       " {'max_depth': 2, 'n_estimators': 400},\n",
       " {'max_depth': 2, 'n_estimators': 450},\n",
       " {'max_depth': 3, 'n_estimators': 50},\n",
       " {'max_depth': 3, 'n_estimators': 100},\n",
       " {'max_depth': 3, 'n_estimators': 150},\n",
       " {'max_depth': 3, 'n_estimators': 200},\n",
       " {'max_depth': 3, 'n_estimators': 250},\n",
       " {'max_depth': 3, 'n_estimators': 300},\n",
       " {'max_depth': 3, 'n_estimators': 350},\n",
       " {'max_depth': 3, 'n_estimators': 400},\n",
       " {'max_depth': 3, 'n_estimators': 450}]"
      ]
     },
     "execution_count": 16,
     "metadata": {},
     "output_type": "execute_result"
    }
   ],
   "source": [
    "grid_results.cv_results_['params']"
   ]
  },
  {
   "cell_type": "code",
   "execution_count": null,
   "metadata": {},
   "outputs": [],
   "source": []
  }
 ],
 "metadata": {
  "kernelspec": {
   "display_name": "Python 3",
   "language": "python",
   "name": "python3"
  },
  "language_info": {
   "codemirror_mode": {
    "name": "ipython",
    "version": 3
   },
   "file_extension": ".py",
   "mimetype": "text/x-python",
   "name": "python",
   "nbconvert_exporter": "python",
   "pygments_lexer": "ipython3",
   "version": "3.7.3"
  }
 },
 "nbformat": 4,
 "nbformat_minor": 2
}
